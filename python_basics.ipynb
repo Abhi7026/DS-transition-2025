{
 "cells": [
  {
   "cell_type": "code",
   "execution_count": 1,
   "id": "dd5e7e3b-3d9d-4c8f-8179-821e3fe85694",
   "metadata": {},
   "outputs": [
    {
     "name": "stdout",
     "output_type": "stream",
     "text": [
      "abhinandan\n"
     ]
    }
   ],
   "source": [
    "print(\"abhinandan\")"
   ]
  },
  {
   "cell_type": "code",
   "execution_count": 5,
   "id": "be6d3f43-26ea-4a81-82ce-93d2d443ef5d",
   "metadata": {},
   "outputs": [
    {
     "name": "stdout",
     "output_type": "stream",
     "text": [
      "Abhi\n"
     ]
    }
   ],
   "source": [
    "n=0\n",
    "if(n==0):\n",
    "    print(\"Abhi\")"
   ]
  },
  {
   "cell_type": "code",
   "execution_count": 1,
   "id": "fe67e572-981c-48be-b48a-255b321eeab6",
   "metadata": {},
   "outputs": [
    {
     "name": "stdout",
     "output_type": "stream",
     "text": [
      "3.13.5 | packaged by Anaconda, Inc. | (main, Jun 12 2025, 16:09:02) [GCC 11.2.0]\n",
      "numpy 2.1.3\n",
      "pandas 2.2.3\n",
      "sklearn 1.6.1\n",
      "matplotlib 3.10.0\n"
     ]
    }
   ],
   "source": [
    "import sys, numpy, pandas, sklearn, matplotlib\n",
    "print(sys.version)\n",
    "print(\"numpy\", numpy.__version__)\n",
    "print(\"pandas\", pandas.__version__)\n",
    "print(\"sklearn\", sklearn.__version__)\n",
    "print(\"matplotlib\", matplotlib.__version__)\n",
    "\n",
    "\n"
   ]
  },
  {
   "cell_type": "code",
   "execution_count": 2,
   "id": "495112c2-00eb-4b04-b3cb-5c25fd5b1595",
   "metadata": {},
   "outputs": [
    {
     "name": "stdout",
     "output_type": "stream",
     "text": [
      "[3, 1, 4] [5, 9]\n"
     ]
    },
    {
     "data": {
      "text/plain": [
       "(20, 10)"
      ]
     },
     "execution_count": 2,
     "metadata": {},
     "output_type": "execute_result"
    }
   ],
   "source": [
    "# lists, slicing, comprehensions\n",
    "nums = [3, 1, 4, 1, 5, 9]\n",
    "print(nums[:3], nums[-2:])          # slicing\n",
    "squares = [x*x for x in nums if x%2==1]\n",
    "squares\n",
    "\n",
    "# dicts\n",
    "user = {\"name\":\"Abhinandan\", \"role\":\"DS-aspirant\", \"year\":2025}\n",
    "user[\"name\"], list(user.keys()), list(user.values())\n",
    "\n",
    "# tuple unpacking\n",
    "a, b = (10, 20)\n",
    "a, b = b, a\n",
    "a, b\n"
   ]
  },
  {
   "cell_type": "code",
   "execution_count": 3,
   "id": "bd5691d7-7871-47ee-bb91-9b5f3532fe70",
   "metadata": {},
   "outputs": [
    {
     "ename": "SyntaxError",
     "evalue": "invalid decimal literal (3744794433.py, line 1)",
     "output_type": "error",
     "traceback": [
      "\u001b[0;36m  Cell \u001b[0;32mIn[3], line 1\u001b[0;36m\u001b[0m\n\u001b[0;31m    1.Given heights = [172, 168, 181, 175, 169, 183]\u001b[0m\n\u001b[0m     ^\u001b[0m\n\u001b[0;31mSyntaxError\u001b[0m\u001b[0;31m:\u001b[0m invalid decimal literal\n"
     ]
    }
   ],
   "source": [
    "1.Given heights = [172, 168, 181, 175, 169, 183]\n",
    "\n",
    "Compute mean, min, max without using NumPy."
   ]
  },
  {
   "cell_type": "code",
   "execution_count": 7,
   "id": "a2a4f882-0863-4cd7-bbe8-5906444a9b0d",
   "metadata": {},
   "outputs": [
    {
     "name": "stdout",
     "output_type": "stream",
     "text": [
      "Mean 174.66666666666666\n"
     ]
    }
   ],
   "source": [
    "'''1.Given heights = [172, 168, 181, 175, 169, 183]\n",
    "\n",
    "Compute mean, min, max without using NumPy.'''\n",
    "heights=[172,168,181,175,169,183]\n",
    "sum=0\n",
    "for i in heights:\n",
    "    sum+=i\n",
    "print(\"Mean\",sum/len(heights))\n",
    "\n",
    "\n",
    "\n",
    "    "
   ]
  },
  {
   "cell_type": "code",
   "execution_count": 8,
   "id": "8a95321f-e26f-4743-81a5-5bfa26114634",
   "metadata": {},
   "outputs": [
    {
     "name": "stdout",
     "output_type": "stream",
     "text": [
      "Minimum in this array is : 168\n"
     ]
    }
   ],
   "source": [
    "heights=[172,168,181,175,169,183]\n",
    "mini=heights[0]\n",
    "for i in heights:\n",
    "    if(i<mini):\n",
    "        mini=i\n",
    "print(\"Minimum in this array is :\",mini)"
   ]
  },
  {
   "cell_type": "code",
   "execution_count": 9,
   "id": "05e1ea1b-e1e1-46b0-a91c-f00f73355831",
   "metadata": {},
   "outputs": [
    {
     "name": "stdout",
     "output_type": "stream",
     "text": [
      "Maximum in this array is : 183\n"
     ]
    }
   ],
   "source": [
    "heights=[172,168,181,175,169,183]\n",
    "maxi=heights[0]\n",
    "for i in heights:\n",
    "    if(i>maxi):\n",
    "        maxi=i\n",
    "print(\"Maximum in this array is :\",maxi)"
   ]
  },
  {
   "cell_type": "code",
   "execution_count": 12,
   "id": "aede9cc6-f942-4854-ab9e-c922ea1339d2",
   "metadata": {},
   "outputs": [
    {
     "name": "stdout",
     "output_type": "stream",
     "text": [
      "Mean: 174.66666666666666\n",
      "Minimum_Value: 168\n",
      "Maximum_vaue: 183\n"
     ]
    }
   ],
   "source": [
    "### Same approach with using numpy now\n",
    "import numpy as np\n",
    "heights=[172,168,181,175,169,183]\n",
    "nums=np.array(heights)\n",
    "mean=np.mean(nums)\n",
    "maxi=np.max(nums)\n",
    "mini=np.min(nums)\n",
    "print(\"Mean:\",mean)\n",
    "print(\"Minimum_Value:\",mini)\n",
    "print(\"Maximum_vaue:\",maxi)"
   ]
  },
  {
   "cell_type": "code",
   "execution_count": 13,
   "id": "9bccabae-2356-4b06-99a2-04082799df3f",
   "metadata": {},
   "outputs": [
    {
     "name": "stdout",
     "output_type": "stream",
     "text": [
      "{'hello': 2, 'world': 1, 'python': 1, 'this': 1, 'is': 1, 'a': 1, 'test': 4}\n"
     ]
    }
   ],
   "source": [
    "import string\n",
    "\n",
    "def build_word_frequency(sentence):\n",
    "    # Remove punctuation and convert to lowercase\n",
    "    translator = str.maketrans('', '', string.punctuation)\n",
    "    clean_sentence = sentence.translate(translator).lower()\n",
    "    \n",
    "    # Split into words and count frequency\n",
    "    words = clean_sentence.split()\n",
    "    frequency = {}\n",
    "    \n",
    "    for word in words:\n",
    "        frequency[word] = frequency.get(word, 0) + 1\n",
    "    \n",
    "    return frequency\n",
    "\n",
    "\n",
    "sentence = \"Hello, world! Hello, Python! This is a test. Test, test, test!\"\n",
    "result = build_word_frequency(sentence)\n",
    "print(result)"
   ]
  },
  {
   "cell_type": "code",
   "execution_count": 14,
   "id": "460a945d-1e18-4ee1-87c4-51e82010301d",
   "metadata": {},
   "outputs": [
    {
     "name": "stdout",
     "output_type": "stream",
     "text": [
      "Total: 7100\n"
     ]
    }
   ],
   "source": [
    "sales = [1200, 900, 1800, 1500, 1700]\n",
    "sum=0\n",
    "for i in sales:\n",
    "    sum+=i\n",
    "print(\"Total:\",sum)"
   ]
  },
  {
   "cell_type": "code",
   "execution_count": 18,
   "id": "b8726e9c-0567-4522-b277-a40a5b936670",
   "metadata": {},
   "outputs": [
    {
     "name": "stdout",
     "output_type": "stream",
     "text": [
      "Total: [np.int64(1200), np.int64(2100), np.int64(3900), np.int64(5400), np.int64(7100)]\n"
     ]
    }
   ],
   "source": [
    "import numpy as np\n",
    "sales = [1200, 900, 1800, 1500, 1700]\n",
    "total=list(np.cumsum(sales))\n",
    "print(\"Total:\",total)"
   ]
  },
  {
   "cell_type": "code",
   "execution_count": 19,
   "id": "8d51f68b-60de-4a85-831b-ee2605228254",
   "metadata": {},
   "outputs": [
    {
     "name": "stdout",
     "output_type": "stream",
     "text": [
      "Total: [np.int64(1200), np.int64(2100), np.int64(3900), np.int64(5400), np.int64(7100)]\n"
     ]
    }
   ],
   "source": [
    "import numpy as np\n",
    "sales = [1200, 900, 1800, 1500, 1700]\n",
    "total=list(np.cumsum(sales))\n",
    "print(\"Total:\",total)"
   ]
  },
  {
   "cell_type": "code",
   "execution_count": 20,
   "id": "e48d6922-972f-4d8b-960a-f2b9e29babf6",
   "metadata": {},
   "outputs": [
    {
     "name": "stdout",
     "output_type": "stream",
     "text": [
      "/home/abhinandan-kumarr\n"
     ]
    }
   ],
   "source": [
    "!pwd"
   ]
  },
  {
   "cell_type": "code",
   "execution_count": null,
   "id": "49cc511d-9414-4152-b165-1ca736cd3012",
   "metadata": {},
   "outputs": [],
   "source": []
  }
 ],
 "metadata": {
  "kernelspec": {
   "display_name": "Python 3 (ipykernel)",
   "language": "python",
   "name": "python3"
  },
  "language_info": {
   "codemirror_mode": {
    "name": "ipython",
    "version": 3
   },
   "file_extension": ".py",
   "mimetype": "text/x-python",
   "name": "python",
   "nbconvert_exporter": "python",
   "pygments_lexer": "ipython3",
   "version": "3.13.5"
  }
 },
 "nbformat": 4,
 "nbformat_minor": 5
}
