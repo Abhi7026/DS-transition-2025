{
 "cells": [
  {
   "cell_type": "code",
   "execution_count": 23,
   "id": "74c02094-ef2f-4eaa-a524-26715eabf4fc",
   "metadata": {},
   "outputs": [
    {
     "name": "stderr",
     "output_type": "stream",
     "text": [
      "[nltk_data] Downloading package stopwords to /home/abhinandan-\n",
      "[nltk_data]     kumarr/nltk_data...\n",
      "[nltk_data]   Package stopwords is already up-to-date!\n"
     ]
    },
    {
     "data": {
      "text/plain": [
       "True"
      ]
     },
     "execution_count": 23,
     "metadata": {},
     "output_type": "execute_result"
    }
   ],
   "source": [
    "import re\n",
    "import nltk\n",
    "nltk.download('stopwords')\n"
   ]
  },
  {
   "cell_type": "code",
   "execution_count": 24,
   "id": "e4d57bc7-1d4b-4e46-b3fd-d0129fd62182",
   "metadata": {},
   "outputs": [],
   "source": [
    "messages=['''URGENT NOTICE:\tYou have WON\ta\tpremium\tiPhone\t15\t.\n",
    "Click\tthe\tlink\tto\tCLAIM\tyour\tprize\tnow:\tbit.ly/fake-win-123\n",
    "This\tis\ta\tlimited\ttime\toffer.\tDo\tnot\tmiss\tout\ton\tthis\texclusive\topportunity\tto\twin\ta\tFREE\tgift''']\n"
   ]
  },
  {
   "cell_type": "code",
   "execution_count": 25,
   "id": "c1880af0-e698-4680-ac0d-be33e77d4809",
   "metadata": {},
   "outputs": [],
   "source": [
    "from nltk.corpus import stopwords\n",
    "from nltk.stem.porter import PorterStemmer\n",
    "ps=PorterStemmer()"
   ]
  },
  {
   "cell_type": "code",
   "execution_count": 27,
   "id": "8d2f189e-fef1-4e6c-9335-e117afb7a3fc",
   "metadata": {},
   "outputs": [],
   "source": [
    "corpus=[]\n",
    "for i in range(0,len(messages)):\n",
    "    review = re.sub('[^a-zA-z]', ' ', messages[i])\n",
    "    review=review.lower()\n",
    "    review=review.split()\n",
    "    review=[ps.stem(word)for word in review if not word in stopwords.words('english')]\n",
    "    review=' '.join(review)\n",
    "    corpus.append(review)"
   ]
  },
  {
   "cell_type": "code",
   "execution_count": 28,
   "id": "343964c5-e5df-4be7-8bc0-d2a3cdce4636",
   "metadata": {},
   "outputs": [
    {
     "data": {
      "text/plain": [
       "['urgent notic premium iphon click link claim prize bit ly fake win limit time offer miss exclus opportun win free gift']"
      ]
     },
     "execution_count": 28,
     "metadata": {},
     "output_type": "execute_result"
    }
   ],
   "source": [
    "corpus"
   ]
  },
  {
   "cell_type": "code",
   "execution_count": 40,
   "id": "1ce522ec-84b2-4fb4-aa77-a82eb0d0f0a1",
   "metadata": {},
   "outputs": [],
   "source": [
    "## CReate the bag of words:\n",
    "from sklearn.feature_extraction.text import CountVectorizer\n",
    "## for binary bag of box enable binary=True\n",
    "cv=CountVectorizer(max_features=20,binary=True)"
   ]
  },
  {
   "cell_type": "code",
   "execution_count": 41,
   "id": "5e93a870-c2a1-44fd-9cd6-5a1892243242",
   "metadata": {},
   "outputs": [],
   "source": [
    "X=cv.fit_transform(corpus).toarray()"
   ]
  },
  {
   "cell_type": "code",
   "execution_count": 44,
   "id": "594eea2d-c71b-459d-98b0-97cc628274f4",
   "metadata": {},
   "outputs": [
    {
     "data": {
      "text/plain": [
       "(1, 20)"
      ]
     },
     "execution_count": 44,
     "metadata": {},
     "output_type": "execute_result"
    }
   ],
   "source": [
    "X.shape"
   ]
  },
  {
   "cell_type": "code",
   "execution_count": null,
   "id": "3550030d-537f-457e-8990-bd38ecb395f0",
   "metadata": {},
   "outputs": [],
   "source": [
    "corpus=[]\n",
    "for i in range(0,len(messages)):\n",
    "    review = re.sub('[^a-zA-z]', ' ', messages[i])\n",
    "    review=review.lower()\n",
    "    review=review.split()\n",
    "    review=[ps.stem(word)for word in review if not word in stopwords.words('english')]\n",
    "    review=' '.join(review)\n",
    "    corpus.append(review)"
   ]
  },
  {
   "cell_type": "code",
   "execution_count": 46,
   "id": "42d3e581-ca1c-4642-abd7-730510228ddc",
   "metadata": {},
   "outputs": [
    {
     "name": "stderr",
     "output_type": "stream",
     "text": [
      "[nltk_data] Downloading package wordnet to /home/abhinandan-\n",
      "[nltk_data]     kumarr/nltk_data...\n"
     ]
    }
   ],
   "source": [
    "import nltk\n",
    "nltk.download('wordnet')\n",
    "from nltk.stem import WordNetLemmatizer\n",
    "lemmatizer=WordNetLemmatizer()\n",
    "corpus=[]\n",
    "for i in range(0,len(messages)):\n",
    "    review = re.sub('[^a-zA-z]', ' ', messages[i])\n",
    "    review=review.lower()\n",
    "    review=review.split()\n",
    "    review=[lemmatizer.lemmatize(word)for word in review if not word in stopwords.words('english')]\n",
    "    review=' '.join(review)\n",
    "    corpus.append(review)"
   ]
  },
  {
   "cell_type": "code",
   "execution_count": 47,
   "id": "bef79d6c-5aef-4c2f-bf20-9769ef99b612",
   "metadata": {},
   "outputs": [
    {
     "data": {
      "text/plain": [
       "['urgent notice premium iphone click link claim prize bit ly fake win limited time offer miss exclusive opportunity win free gift']"
      ]
     },
     "execution_count": 47,
     "metadata": {},
     "output_type": "execute_result"
    }
   ],
   "source": [
    "corpus"
   ]
  },
  {
   "cell_type": "code",
   "execution_count": null,
   "id": "497d94f1-da21-4010-af47-98ef90d6f294",
   "metadata": {},
   "outputs": [],
   "source": []
  }
 ],
 "metadata": {
  "kernelspec": {
   "display_name": "Python 3 (ipykernel)",
   "language": "python",
   "name": "python3"
  },
  "language_info": {
   "codemirror_mode": {
    "name": "ipython",
    "version": 3
   },
   "file_extension": ".py",
   "mimetype": "text/x-python",
   "name": "python",
   "nbconvert_exporter": "python",
   "pygments_lexer": "ipython3",
   "version": "3.13.5"
  }
 },
 "nbformat": 4,
 "nbformat_minor": 5
}
