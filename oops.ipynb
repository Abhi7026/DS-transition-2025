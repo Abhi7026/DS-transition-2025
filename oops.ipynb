{
 "cells": [
  {
   "cell_type": "code",
   "execution_count": 1,
   "id": "6c8e8ed3-d269-4773-9b61-086ff7a365d6",
   "metadata": {},
   "outputs": [],
   "source": [
    "class studenr:\n",
    "    def study(self):\n",
    "        print(\"I am studying\")"
   ]
  },
  {
   "cell_type": "code",
   "execution_count": 2,
   "id": "dbb51089-a899-45a9-b207-23b6f9a70af2",
   "metadata": {},
   "outputs": [
    {
     "ename": "NameError",
     "evalue": "name 's1' is not defined",
     "output_type": "error",
     "traceback": [
      "\u001b[0;31m---------------------------------------------------------------------------\u001b[0m",
      "\u001b[0;31mNameError\u001b[0m                                 Traceback (most recent call last)",
      "Cell \u001b[0;32mIn[2], line 1\u001b[0m\n\u001b[0;32m----> 1\u001b[0m s1\u001b[38;5;241m.\u001b[39mstudent()\n\u001b[1;32m      2\u001b[0m s1\u001b[38;5;241m.\u001b[39mstudy()\n",
      "\u001b[0;31mNameError\u001b[0m: name 's1' is not defined"
     ]
    }
   ],
   "source": [
    "s1.student()\n",
    "s1.study()"
   ]
  },
  {
   "cell_type": "code",
   "execution_count": 5,
   "id": "f8c75ef9-a96f-4127-a948-0c259f8d7655",
   "metadata": {},
   "outputs": [
    {
     "name": "stdout",
     "output_type": "stream",
     "text": [
      "I am studying\n"
     ]
    }
   ],
   "source": [
    "class student:\n",
    "    def study(self):\n",
    "        print(\"I am studying\")\n",
    "s1=student()\n",
    "s1.study()"
   ]
  },
  {
   "cell_type": "code",
   "execution_count": 6,
   "id": "88406f67-a8b9-4c72-8b38-d76206425e6d",
   "metadata": {},
   "outputs": [
    {
     "name": "stdout",
     "output_type": "stream",
     "text": [
      "Woof! woof!\n"
     ]
    }
   ],
   "source": [
    "class Dog:\n",
    "    def bark(selfbeec):\n",
    "        print(\"Woof! woof!\")\n",
    "d1=Dog()\n",
    "d1.bark()"
   ]
  },
  {
   "cell_type": "code",
   "execution_count": 10,
   "id": "b3c8a171-7176-4bb7-b5a7-bbade72752ac",
   "metadata": {},
   "outputs": [
    {
     "name": "stdout",
     "output_type": "stream",
     "text": [
      "Hi , I am Abhinandan and my roll number is 50\n"
     ]
    }
   ],
   "source": [
    "class student:\n",
    "    def __init__(self,name,roll_no):\n",
    "        self.name=name\n",
    "        self.roll_no=roll_no\n",
    "    def introduction(self):\n",
    "        print(f\"Hi , I am {self.name} and my roll number is {self.roll_no}\")\n",
    "s1=student(\"Abhinandan\",50)\n",
    "s1.introduction()"
   ]
  },
  {
   "cell_type": "code",
   "execution_count": null,
   "id": "7237d75e-661e-4964-bd0f-5d104ed1d909",
   "metadata": {},
   "outputs": [],
   "source": []
  }
 ],
 "metadata": {
  "kernelspec": {
   "display_name": "Python 3 (ipykernel)",
   "language": "python",
   "name": "python3"
  },
  "language_info": {
   "codemirror_mode": {
    "name": "ipython",
    "version": 3
   },
   "file_extension": ".py",
   "mimetype": "text/x-python",
   "name": "python",
   "nbconvert_exporter": "python",
   "pygments_lexer": "ipython3",
   "version": "3.13.5"
  }
 },
 "nbformat": 4,
 "nbformat_minor": 5
}
