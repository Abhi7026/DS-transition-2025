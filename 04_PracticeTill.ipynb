{
 "cells": [
  {
   "cell_type": "code",
   "execution_count": 1,
   "id": "c77b2a04-cdc1-4d9e-a26f-55cdfdc925b3",
   "metadata": {},
   "outputs": [
    {
     "data": {
      "text/plain": [
       "'Write a program that:\\n\\nAsks the user for a number n.\\n\\nPrints the multiplication table of n (using a loop).\\n\\nDefines a function is_prime(n) that checks if n is prime.\\n\\nIf n is prime → print \"Prime number\" else \"Not prime\".\\n\\nUse recursion to calculate and print factorial(n).\\n\\nFinally → log today’s date & time using datetime.'"
      ]
     },
     "execution_count": 1,
     "metadata": {},
     "output_type": "execute_result"
    }
   ],
   "source": [
    "'''Write a program that:\n",
    "\n",
    "Asks the user for a number n.\n",
    "\n",
    "Prints the multiplication table of n (using a loop).\n",
    "\n",
    "Defines a function is_prime(n) that checks if n is prime.\n",
    "\n",
    "If n is prime → print \"Prime number\" else \"Not prime\".\n",
    "\n",
    "Use recursion to calculate and print factorial(n).\n",
    "\n",
    "Finally → log today’s date & time using datetime.'''"
   ]
  },
  {
   "cell_type": "code",
   "execution_count": 3,
   "id": "e45a2f57-97ca-4942-b353-1063e0e6a42c",
   "metadata": {},
   "outputs": [
    {
     "name": "stdin",
     "output_type": "stream",
     "text": [
      "Enetr a number 23\n"
     ]
    },
    {
     "name": "stdout",
     "output_type": "stream",
     "text": [
      "You entered a number: 23\n"
     ]
    }
   ],
   "source": [
    "#Asks the user for a number n.\n",
    "n=int(input(\"Enter a number\"))\n",
    "print(\"You entered a number:\",n)"
   ]
  },
  {
   "cell_type": "code",
   "execution_count": 6,
   "id": "47911ae6-c5cf-4b9c-bc05-3d6dc1159d4f",
   "metadata": {},
   "outputs": [
    {
     "name": "stdin",
     "output_type": "stream",
     "text": [
      "Enter a number 6\n"
     ]
    },
    {
     "name": "stdout",
     "output_type": "stream",
     "text": [
      "6 *=: 6\n",
      "6 *=: 12\n",
      "6 *=: 18\n",
      "6 *=: 24\n",
      "6 *=: 30\n",
      "6 *=: 36\n",
      "6 *=: 42\n",
      "6 *=: 48\n",
      "6 *=: 54\n",
      "6 *=: 60\n"
     ]
    }
   ],
   "source": [
    "#Prints the multiplication table of n (using a loop).\n",
    "n=int(input(\"Enter a number\"))\n",
    "for i in range(1,11):\n",
    "    print(n ,\"*=:\",n*i)"
   ]
  },
  {
   "cell_type": "code",
   "execution_count": 11,
   "id": "4c212245-60af-49dd-b776-d6a82904ea73",
   "metadata": {},
   "outputs": [
    {
     "name": "stdin",
     "output_type": "stream",
     "text": [
      "Enter a number 12\n"
     ]
    },
    {
     "data": {
      "text/plain": [
       "False"
      ]
     },
     "execution_count": 11,
     "metadata": {},
     "output_type": "execute_result"
    }
   ],
   "source": [
    "#Defines a function is_prime(n) that checks if n is prime.\n",
    "\n",
    "def isPrime(n):\n",
    "    if(n<=1):\n",
    "        return False\n",
    "    for i in range(2,n):\n",
    "        if n%i==0:\n",
    "            return False\n",
    "    return True\n",
    "\n",
    "n=int(input(\"Enter a number\"))\n",
    "isPrime(n)"
   ]
  },
  {
   "cell_type": "code",
   "execution_count": 12,
   "id": "d720abee-6b4d-40fe-b739-47089309d97b",
   "metadata": {},
   "outputs": [
    {
     "name": "stdout",
     "output_type": "stream",
     "text": [
      "Current date and time: 2025-08-25 23:10:56.277210\n"
     ]
    }
   ],
   "source": [
    "#Finally → log today’s date & time using datetime.\n",
    "from datetime import datetime\n",
    "\n",
    "now = datetime.now()\n",
    "print(f\"Current date and time: {now}\")"
   ]
  },
  {
   "cell_type": "code",
   "execution_count": null,
   "id": "159bc21a-dcc1-4ebd-9de8-28472a1400e5",
   "metadata": {},
   "outputs": [],
   "source": []
  }
 ],
 "metadata": {
  "kernelspec": {
   "display_name": "Python 3 (ipykernel)",
   "language": "python",
   "name": "python3"
  },
  "language_info": {
   "codemirror_mode": {
    "name": "ipython",
    "version": 3
   },
   "file_extension": ".py",
   "mimetype": "text/x-python",
   "name": "python",
   "nbconvert_exporter": "python",
   "pygments_lexer": "ipython3",
   "version": "3.13.5"
  }
 },
 "nbformat": 4,
 "nbformat_minor": 5
}
