{
 "cells": [
  {
   "cell_type": "code",
   "execution_count": 1,
   "id": "dd3a9e25-e340-41a1-a35e-f7787c48ed1a",
   "metadata": {},
   "outputs": [
    {
     "name": "stdout",
     "output_type": "stream",
     "text": [
      "Hello,Abhinandan!\n"
     ]
    }
   ],
   "source": [
    "def greet(name):\n",
    "    return f\"Hello,{name}!\"\n",
    "print(greet(\"Abhinandan\"))"
   ]
  },
  {
   "cell_type": "code",
   "execution_count": 2,
   "id": "ca5acfdb-bb91-48de-838f-6ee0ae2f7457",
   "metadata": {},
   "outputs": [
    {
     "name": "stdout",
     "output_type": "stream",
     "text": [
      "8\n"
     ]
    }
   ],
   "source": [
    "def power(base,exp):\n",
    "    return base**exp\n",
    "print(power(2,3))"
   ]
  },
  {
   "cell_type": "code",
   "execution_count": 7,
   "id": "8fcda8d0-fd48-47cd-a8a4-9562c39d854a",
   "metadata": {},
   "outputs": [
    {
     "name": "stdout",
     "output_type": "stream",
     "text": [
      "45\n",
      "name:Abhinandan\n",
      "role:DS Aspirant\n"
     ]
    }
   ],
   "source": [
    "'''*args and **kwargs\n",
    "\n",
    "*args = multiple positional arguments (like tuple)\n",
    "\n",
    "**kwargs = keyword arguments (like dict)'''\n",
    "def add_all(*args):\n",
    "    return sum(args)\n",
    "print(add_all(1,2,3,4,5,6,7,8,9))\n",
    "\n",
    "\n",
    "def show_info(**kwargs):\n",
    "    for key, value in kwargs.items():\n",
    "        print(f\"{key}:{value}\")\n",
    "show_info(name=\"Abhinandan\",role=\"DS Aspirant\")"
   ]
  },
  {
   "cell_type": "code",
   "execution_count": 12,
   "id": "67b9e8d0-cd0a-488f-a546-5d7be5075e38",
   "metadata": {},
   "outputs": [
    {
     "data": {
      "text/plain": [
       "120"
      ]
     },
     "execution_count": 12,
     "metadata": {},
     "output_type": "execute_result"
    }
   ],
   "source": [
    "# Function for factorial:\n",
    "def fact(n):\n",
    "    if n==0 or n==1:\n",
    "        return 1\n",
    "    else:\n",
    "        return n*fact(n-1)\n",
    "\n",
    "fact(5)"
   ]
  },
  {
   "cell_type": "code",
   "execution_count": 18,
   "id": "5f6a82b3-651c-44cd-8415-1e7a900e0e25",
   "metadata": {},
   "outputs": [
    {
     "name": "stdout",
     "output_type": "stream",
     "text": [
      "8\n",
      "[0, 1, 1, 2, 3, 5]\n"
     ]
    }
   ],
   "source": [
    "#Function for fibonaci in python\n",
    "def fibo(n):\n",
    "    if n<=1:\n",
    "        return n\n",
    "    else:\n",
    "        return fibo(n-1)+fibo(n-2)\n",
    "print(fibo(6))\n",
    "print([fibo(i) for i in range(6)])"
   ]
  },
  {
   "cell_type": "code",
   "execution_count": 21,
   "id": "805778d3-ba07-43e6-847f-7335e795a5a1",
   "metadata": {},
   "outputs": [
    {
     "name": "stdout",
     "output_type": "stream",
     "text": [
      "True\n"
     ]
    }
   ],
   "source": [
    "#Write a function is_palindrome(word) → return True if word reads same backwards.\n",
    "def is_palindrome(word):\n",
    "    word=word.lower()\n",
    "    return word==word[::-1]\n",
    "print(is_palindrome(\"aba\"))"
   ]
  },
  {
   "cell_type": "code",
   "execution_count": 31,
   "id": "a773f8d7-aa00-4ed2-a2ae-e577e55e2fa4",
   "metadata": {},
   "outputs": [
    {
     "name": "stdout",
     "output_type": "stream",
     "text": [
      "True\n"
     ]
    }
   ],
   "source": [
    "#Write a function is_palindrome(word) → return True if word reads same backwards.\n",
    "def is_palin(word):\n",
    "    word=word.lower()\n",
    "    l,r=len(word)-1\n",
    "    while(l<r):\n",
    "        if(word[l]!=word[r]):\n",
    "            return False\n",
    "        l+=1\n",
    "        r-=1\n",
    "    return True\n",
    "print(is_palindrome(\"aba\"))  "
   ]
  },
  {
   "cell_type": "code",
   "execution_count": null,
   "id": "d1fd40ca-6356-4566-a657-dcea06d7d1fb",
   "metadata": {},
   "outputs": [],
   "source": []
  }
 ],
 "metadata": {
  "kernelspec": {
   "display_name": "Python 3 (ipykernel)",
   "language": "python",
   "name": "python3"
  },
  "language_info": {
   "codemirror_mode": {
    "name": "ipython",
    "version": 3
   },
   "file_extension": ".py",
   "mimetype": "text/x-python",
   "name": "python",
   "nbconvert_exporter": "python",
   "pygments_lexer": "ipython3",
   "version": "3.13.5"
  }
 },
 "nbformat": 4,
 "nbformat_minor": 5
}
