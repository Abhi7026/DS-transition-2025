{
 "cells": [
  {
   "cell_type": "code",
   "execution_count": null,
   "id": "adff68c1-5375-428b-8fba-26e0e4067408",
   "metadata": {},
   "outputs": [],
   "source": [
    "# Day 2 - Python Basics: Data Types & Variables\n",
    "\n",
    "## 1. Variables and Data Types\n",
    "- int, float, str\n",
    "- list, tuple\n",
    "- dict, set\n",
    "\n",
    "## 2. Mini Exercises\n",
    "- Reverse a string\n",
    "- Find min/max in a list\n",
    "- Count word frequency\n"
   ]
  },
  {
   "cell_type": "code",
   "execution_count": 9,
   "id": "ca9e36bd-5ec4-4c58-9bdf-39d16d9fe55e",
   "metadata": {},
   "outputs": [
    {
     "name": "stdout",
     "output_type": "stream",
     "text": [
      "ecneicS_ataD_gninraeL\n",
      "ecneicS_ataD_gninraeL\n"
     ]
    }
   ],
   "source": [
    "#Reverse a string:\n",
    "text=\"Learning_Data_Science\"\n",
    "print(text[::-1])\n",
    "print(''.join(reversed(text)))"
   ]
  },
  {
   "cell_type": "code",
   "execution_count": 11,
   "id": "8696c6ed-69c3-4d5f-94ec-ed194a515e08",
   "metadata": {},
   "outputs": [
    {
     "name": "stdout",
     "output_type": "stream",
     "text": [
      "12\n",
      "55\n"
     ]
    }
   ],
   "source": [
    "import numpy as np\n",
    "nums=[12,22,42,44,55,53]\n",
    "maxi= np.max(nums)\n",
    "mini=np.min(nums)\n",
    "print(mini)\n",
    "print(maxi)"
   ]
  },
  {
   "cell_type": "code",
   "execution_count": 16,
   "id": "ff7008ab-4751-45f6-bd81-549950f8792c",
   "metadata": {},
   "outputs": [
    {
     "data": {
      "text/plain": [
       "{'data': 2, 'science': 1, 'is': 2, 'fun': 1, 'and': 1, 'powerful': 1}"
      ]
     },
     "execution_count": 16,
     "metadata": {},
     "output_type": "execute_result"
    }
   ],
   "source": [
    "# Count word frequency:\n",
    "\n",
    "def CountWordFre(word):\n",
    "    words=word.split()\n",
    "    freq={}\n",
    "    for i in words:\n",
    "        freq[i]=freq.get(i,0)+1\n",
    "    return freq\n",
    "\n",
    "\n",
    "sentence=\"data science is fun and data is powerful\"\n",
    "CountWordFre(sentence)"
   ]
  },
  {
   "cell_type": "code",
   "execution_count": 17,
   "id": "6c8afad4-7040-4c40-9ffe-80b664089a09",
   "metadata": {},
   "outputs": [
    {
     "name": "stdout",
     "output_type": "stream",
     "text": [
      "ecneicSataD\n",
      "Data\n",
      "Science\n",
      "DtSine\n"
     ]
    }
   ],
   "source": [
    "s = \"DataScience\"\n",
    "\n",
    "print(s[::-1])   # Reverse string -> \"ecneicSataD\"\n",
    "print(s[0:4])    # First 4 letters -> \"Data\"\n",
    "print(s[4:])     # From index 4 to end -> \"Science\"\n",
    "print(s[::2])    # Every 2nd character -> \"DtSine\"\n"
   ]
  },
  {
   "cell_type": "code",
   "execution_count": 22,
   "id": "03f95cca-9d52-4d99-ac93-e45724b5856b",
   "metadata": {},
   "outputs": [
    {
     "name": "stdout",
     "output_type": "stream",
     "text": [
      "5\n",
      "data science is very Abhinandan\n",
      "['data', 'science', 'is', 'very', 'powerful']\n"
     ]
    }
   ],
   "source": [
    "s=\"data science is very powerful\"\n",
    "print(s.find(\"science\"))\n",
    "print (s.replace(\"powerful\",\"Abhinandan\"))\n",
    "print(s.split())"
   ]
  },
  {
   "cell_type": "code",
   "execution_count": 29,
   "id": "42b4c801-fd42-497e-8031-13c590edbc35",
   "metadata": {},
   "outputs": [
    {
     "name": "stdout",
     "output_type": "stream",
     "text": [
      "[3, 4, 5, 6, 1, 2]\n",
      "[5, 6, 1, 2, 3, 4]\n"
     ]
    }
   ],
   "source": [
    "# Lists:\n",
    "nums=[1,2,3,4,5,6]\n",
    "k=2\n",
    "arr=nums[k:]+nums[:k]\n",
    "right_rotation=nums[-k:]+nums[:-k]\n",
    "print(arr)\n",
    "print(left_rotation)"
   ]
  },
  {
   "cell_type": "code",
   "execution_count": 32,
   "id": "bec6abb2-0d1f-4884-8b55-4c538d7ca0e2",
   "metadata": {},
   "outputs": [
    {
     "name": "stdout",
     "output_type": "stream",
     "text": [
      "{1: 1, 2: 4, 3: 9, 4: 16}\n"
     ]
    }
   ],
   "source": [
    "nums = [1, 2, 3, 4]\n",
    "squares = {x: x**2 for x in nums}\n",
    "print(squares) \n"
   ]
  },
  {
   "cell_type": "code",
   "execution_count": 37,
   "id": "cef18525-0089-471e-995a-87d76b11137a",
   "metadata": {},
   "outputs": [
    {
     "name": "stdout",
     "output_type": "stream",
     "text": [
      "{1, 2, 3, 4, 5, 6, 7}\n",
      "{3, 4, 5}\n",
      "{1, 2}\n",
      "{1, 2, 6, 7}\n"
     ]
    }
   ],
   "source": [
    "a={1,2,3,4,5}\n",
    "b={3,4,5,6,7}\n",
    "print(a.union(b))\n",
    "print(a.intersection(b))\n",
    "print(a.difference(b))\n",
    "print(a.symmetric_difference(b))"
   ]
  },
  {
   "cell_type": "code",
   "execution_count": 38,
   "id": "26190b5a-1545-4de5-815c-9538fd366205",
   "metadata": {},
   "outputs": [
    {
     "name": "stdout",
     "output_type": "stream",
     "text": [
      "lufrewop dna nuf si ecneics atad\n"
     ]
    }
   ],
   "source": [
    "sentence=\"data science is fun and powerful\"\n",
    "print(sentence[::-1])"
   ]
  },
  {
   "cell_type": "code",
   "execution_count": 43,
   "id": "7963ed16-1d53-4221-9a8f-dd2065d6a2f5",
   "metadata": {},
   "outputs": [
    {
     "data": {
      "text/plain": [
       "'powerful and challenging is science data'"
      ]
     },
     "execution_count": 43,
     "metadata": {},
     "output_type": "execute_result"
    }
   ],
   "source": [
    "def reverseWord(word):\n",
    "    words=word.split()\n",
    "    reverse=words[::-1]\n",
    "    ans=\" \".join(reverse)\n",
    "    return ans\n",
    "def replaceWord(word):\n",
    "    words=word.split()\n",
    "    reverse=words[::-1]\n",
    "    ans=\" \".join(reverse)\n",
    "    newAns=ans.replace(\"fun\",\"challenging\")\n",
    "    return newAns\n",
    "    \n",
    "sentence=\"data science is fun and powerful\"\n",
    "reverseWord(sentence)\n",
    "replaceWord(sentence)"
   ]
  },
  {
   "cell_type": "code",
   "execution_count": 47,
   "id": "5482ea70-73bd-43e5-b8dc-86c18a4d8152",
   "metadata": {},
   "outputs": [
    {
     "data": {
      "text/plain": [
       "{'d': 1, 'a': 2, 't': 1, 's': 1, 'c': 2, 'i': 1, 'e': 2, 'n': 1}"
      ]
     },
     "execution_count": 47,
     "metadata": {},
     "output_type": "execute_result"
    }
   ],
   "source": [
    "def CountWordFre(word):\n",
    "    freq={}\n",
    "    for i in word:\n",
    "        freq[i]=freq.get(i,0)+1\n",
    "    return freq\n",
    "\n",
    "\n",
    "sentence=\"datascience\"\n",
    "CountWordFre(sentence)"
   ]
  },
  {
   "cell_type": "code",
   "execution_count": null,
   "id": "e0c087da-7b83-47ef-b7af-1bf7e82263a9",
   "metadata": {},
   "outputs": [],
   "source": []
  }
 ],
 "metadata": {
  "kernelspec": {
   "display_name": "Python 3 (ipykernel)",
   "language": "python",
   "name": "python3"
  },
  "language_info": {
   "codemirror_mode": {
    "name": "ipython",
    "version": 3
   },
   "file_extension": ".py",
   "mimetype": "text/x-python",
   "name": "python",
   "nbconvert_exporter": "python",
   "pygments_lexer": "ipython3",
   "version": "3.13.5"
  }
 },
 "nbformat": 4,
 "nbformat_minor": 5
}
