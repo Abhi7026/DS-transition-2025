{
 "cells": [
  {
   "cell_type": "raw",
   "id": "08642fe0-4768-439f-8e83-b34cffc0dd32",
   "metadata": {},
   "source": [
    "file=open(\"notebook.txt\",\"w\")"
   ]
  },
  {
   "cell_type": "code",
   "execution_count": 1,
   "id": "9c41ef07-bb99-4619-a188-00f080885e64",
   "metadata": {},
   "outputs": [],
   "source": [
    "file=open(\"notebook.txt\",\"w\")"
   ]
  },
  {
   "cell_type": "code",
   "execution_count": 2,
   "id": "28ff1502-8c2b-4c8e-ab9f-3f4e883d171d",
   "metadata": {},
   "outputs": [],
   "source": [
    "file=open(\"notebook.txt\",\"a\")"
   ]
  },
  {
   "cell_type": "code",
   "execution_count": 4,
   "id": "56885393-805f-4dca-8e5d-4201122fb59f",
   "metadata": {},
   "outputs": [],
   "source": [
    "# Writing to a file\n",
    "file = open(\"notebook.txt\", \"w\")  \n",
    "file.write(\"Hello, Abhinandan!\\n\")\n",
    "file.write(\"Learning file handling.\\n\")\n",
    "file.close()\n"
   ]
  },
  {
   "cell_type": "raw",
   "id": "87d82519-e6e0-45a8-ad2d-be11525cec6f",
   "metadata": {},
   "source": []
  },
  {
   "cell_type": "code",
   "execution_count": 7,
   "id": "1cd86842-d604-4c1c-8f75-0f125ea1b658",
   "metadata": {},
   "outputs": [],
   "source": [
    "file=open(\"todo.txt\",\"a\")\n",
    "file.write(\"This is a normal routine check\\n\")\n",
    "file.write(\"Everything is fine\\n\")\n",
    "file.close()"
   ]
  },
  {
   "cell_type": "code",
   "execution_count": 8,
   "id": "bfcbdef2-0987-49ab-9994-8fb569d9dc51",
   "metadata": {},
   "outputs": [],
   "source": [
    "with open(\"todo.txt\", \"a\") as file:\n",
    "    file.write(\"Task 1: Morning workout\\n\")\n",
    "    file.write(\"Task 2: Study Python\\n\")\n",
    "    file.write(\"Task 3: Go for a walk\\n\")\n"
   ]
  },
  {
   "cell_type": "code",
   "execution_count": 11,
   "id": "7b18fff2-975d-4204-ba34-8246072ec640",
   "metadata": {},
   "outputs": [],
   "source": [
    "with open(\"todo.txt\",\"a\")as file:\n",
    "    file.write(\"P0 task: solve 2 medium leetcode question\\n\")\n",
    "    file.write(\"P1 task: Complete the assignment of Tosca in office itself\\n\")\n",
    "    "
   ]
  },
  {
   "cell_type": "code",
   "execution_count": 12,
   "id": "779658ee-f0a1-4dde-b7e2-78d0bc994339",
   "metadata": {},
   "outputs": [
    {
     "name": "stdout",
     "output_type": "stream",
     "text": [
      "This is a normal routine checkEverything is fineThis is a normal routine check\n",
      "Everything is fine\n",
      "Task 1: Morning workout\n",
      "Task 2: Study Python\n",
      "Task 3: Go for a walk\n",
      "P0 task: solve 2 medium leetcode question\n",
      "P1 task: Complete the assignment of Tosca in office itself\n",
      "P0 task: solve 2 medium leetcode question\n",
      "P1 task: Complete the assignment of Tosca in office itself\n",
      "\n"
     ]
    }
   ],
   "source": [
    "with open(\"todo.txt\", \"r\") as file:\n",
    "    content = file.read()\n",
    "    print(content)\n"
   ]
  },
  {
   "cell_type": "code",
   "execution_count": 13,
   "id": "9f0a68cb-5811-465b-b882-2ec97151858c",
   "metadata": {},
   "outputs": [
    {
     "name": "stdout",
     "output_type": "stream",
     "text": [
      "This is a normal routine checkEverything is fineThis is a normal routine check\n",
      "Everything is fine\n",
      "Task 1: Morning workout\n",
      "Task 2: Study Python\n",
      "Task 3: Go for a walk\n",
      "P0 task: solve 2 medium leetcode question\n",
      "P1 task: Complete the assignment of Tosca in office itself\n",
      "P0 task: solve 2 medium leetcode question\n",
      "P1 task: Complete the assignment of Tosca in office itself\n"
     ]
    }
   ],
   "source": [
    "with open(\"todo.txt\", \"r\") as file:\n",
    "    for line in file:\n",
    "        print(line.strip())   # .strip() removes the \\n at the end\n"
   ]
  },
  {
   "cell_type": "code",
   "execution_count": 14,
   "id": "df9a707d-521d-4501-914a-d5d7ce734729",
   "metadata": {},
   "outputs": [
    {
     "name": "stdout",
     "output_type": "stream",
     "text": [
      "1. This is a normal routine checkEverything is fineThis is a normal routine check\n",
      "2. Everything is fine\n",
      "3. Task 1: Morning workout\n",
      "4. Task 2: Study Python\n",
      "5. Task 3: Go for a walk\n",
      "6. P0 task: solve 2 medium leetcode question\n",
      "7. P1 task: Complete the assignment of Tosca in office itself\n",
      "8. P0 task: solve 2 medium leetcode question\n",
      "9. P1 task: Complete the assignment of Tosca in office itself\n"
     ]
    }
   ],
   "source": [
    "with open(\"todo.txt\", \"r\") as file:\n",
    "    i = 1\n",
    "    for line in file:\n",
    "        print(f\"{i}. {line.strip()}\")\n",
    "        i += 1\n"
   ]
  },
  {
   "cell_type": "code",
   "execution_count": 15,
   "id": "e19b8035-2def-4be5-a642-69d7ae9c96df",
   "metadata": {},
   "outputs": [
    {
     "name": "stdout",
     "output_type": "stream",
     "text": [
      "This is a normal routine checkEverything is fineThis is a normal routine check\n",
      "Everything is fine\n",
      "Task 1: Morning workout\n",
      "Task 2: Study Python\n",
      "Task 3: Go for a walk\n",
      "P0 task: solve 2 medium leetcode question\n",
      "P1 task: Complete the assignment of Tosca in office itself\n",
      "P0 task: solve 2 medium leetcode question\n",
      "P1 task: Complete the assignment of Tosca in office itself\n",
      "\n"
     ]
    }
   ],
   "source": [
    "import os\n",
    "\n",
    "if os.path.exists(\"todo.txt\"):\n",
    "    with open(\"todo.txt\", \"r\") as file:\n",
    "        print(file.read())\n",
    "else:\n",
    "    print(\"File not found!\")\n",
    "try:\n",
    "    # code that may cause error\n",
    "    file = open(\"missing.txt\", \"r\")\n",
    "    content = file.read()\n",
    "    print(content)\n",
    "except FileNotFoundError:\n",
    "    print(\"Oops! File not found.\")\n"
   ]
  },
  {
   "cell_type": "code",
   "execution_count": 19,
   "id": "7d75bbfe-9c0a-479c-9a91-3326d27fc9fe",
   "metadata": {},
   "outputs": [
    {
     "name": "stdout",
     "output_type": "stream",
     "text": [
      "Hello, Abhinandan!\n",
      "Learning file handling.\n",
      "\n",
      "Execution complete\n"
     ]
    }
   ],
   "source": [
    "try:\n",
    "    file=open(\"notebook.txt\",\"r\")\n",
    "    content=file.read()\n",
    "    print(content)\n",
    "except FileNotFoundError:\n",
    "    print(\"Oops! File not found\")\n",
    "finally:\n",
    "    print(\"Execution complete\")"
   ]
  },
  {
   "cell_type": "code",
   "execution_count": 20,
   "id": "8bbe8ea3-123d-49ee-b9ed-aea16f9b03df",
   "metadata": {},
   "outputs": [
    {
     "name": "stdin",
     "output_type": "stream",
     "text": [
      "Enter sentence 1:  Today is Tuesday\n",
      "Enter sentence 2:  I need to go to office :)\n",
      "Enter sentence 3:  Enjoy your day\n"
     ]
    },
    {
     "name": "stdout",
     "output_type": "stream",
     "text": [
      "Sentences saved to journal.txt\n",
      "\n",
      "Contents of journal.txt:\n",
      "1. Today is Tuesday\n",
      "2. I need to go to office :)\n",
      "3. Enjoy your day\n",
      "Program finished\n"
     ]
    }
   ],
   "source": [
    "def main():\n",
    "    sentences = []\n",
    "    for i in range(3):\n",
    "        sentence = input(f\"Enter sentence {i+1}: \")\n",
    "        sentences.append(sentence)\n",
    "    \n",
    "    try:\n",
    "        with open(\"journal.txt\", \"w\") as file:\n",
    "            for sentence in sentences:\n",
    "                file.write(sentence + \"\\n\")\n",
    "        print(\"Sentences saved to journal.txt\")\n",
    "    \n",
    "    except IOError as e:\n",
    "        print(f\"Error writing to file: {e}\")\n",
    "    \n",
    "    try:\n",
    "        with open(\"journal.txt\", \"r\") as file:\n",
    "            print(\"\\nContents of journal.txt:\")\n",
    "            lines = file.readlines()\n",
    "            \n",
    "            for i, line in enumerate(lines, 1):\n",
    "                print(f\"{i}. {line.strip()}\")\n",
    "    \n",
    "    except FileNotFoundError:\n",
    "        print(\"File not found\")\n",
    "    except IOError as e:\n",
    "        print(f\"Error reading file: {e}\")\n",
    "    \n",
    "    finally:\n",
    "        print(\"Program finished\")\n",
    "\n",
    "# Run the program\n",
    "if __name__ == \"__main__\":\n",
    "    main()"
   ]
  },
  {
   "cell_type": "code",
   "execution_count": null,
   "id": "3bf018b8-8a62-4442-8bf7-e5c935629138",
   "metadata": {},
   "outputs": [],
   "source": [
    "\n",
    "###### Cheet Sheet for revesion#####################\n",
    "\n",
    "Opening Files\n",
    "file = open(\"filename.txt\", \"mode\")\n",
    "file.close()\n",
    "\n",
    "\n",
    "Or (preferred):\n",
    "\n",
    "with open(\"filename.txt\", \"mode\") as file:\n",
    "    # work with file\n",
    "\n",
    "🔹 File Modes\n",
    "\n",
    "\"r\" → Read (file must exist)\n",
    "\n",
    "\"w\" → Write (creates new OR erases old)\n",
    "\n",
    "\"a\" → Append (adds at end, keeps old)\n",
    "\n",
    "\"x\" → Create new (error if file exists)\n",
    "\n",
    "\"r+\" → Read & Write\n",
    "\n",
    "🔹 Writing\n",
    "with open(\"todo.txt\", \"w\") as f:\n",
    "    f.write(\"First line\\n\")\n",
    "    f.write(\"Second line\\n\")\n",
    "\n",
    "🔹 Reading\n",
    "with open(\"todo.txt\", \"r\") as f:\n",
    "    print(f.read())       # all content\n",
    "    f.seek(0)             # move cursor back to start\n",
    "    print(f.readline())   # one line\n",
    "    print(f.readlines())  # list of all lines\n",
    "\n",
    "🔹 Looping Lines\n",
    "with open(\"todo.txt\", \"r\") as f:\n",
    "    for i, line in enumerate(f, 1):\n",
    "        print(f\"{i}. {line.strip()}\")\n",
    "\n",
    "🔹 Exception Handling\n",
    "try:\n",
    "    with open(\"file.txt\", \"r\") as f:\n",
    "        content = f.read()\n",
    "except FileNotFoundError:\n",
    "    print(\"Oops! File not found\")\n",
    "finally:\n",
    "    print(\"Execution complete\")"
   ]
  }
 ],
 "metadata": {
  "kernelspec": {
   "display_name": "Python 3 (ipykernel)",
   "language": "python",
   "name": "python3"
  },
  "language_info": {
   "codemirror_mode": {
    "name": "ipython",
    "version": 3
   },
   "file_extension": ".py",
   "mimetype": "text/x-python",
   "name": "python",
   "nbconvert_exporter": "python",
   "pygments_lexer": "ipython3",
   "version": "3.13.5"
  }
 },
 "nbformat": 4,
 "nbformat_minor": 5
}
